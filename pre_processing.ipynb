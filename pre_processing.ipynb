{
 "cells": [
  {
   "cell_type": "code",
   "execution_count": 73,
   "id": "705a4e13-ea62-4241-930f-b0a25c504370",
   "metadata": {},
   "outputs": [],
   "source": [
    "import numpy as np\n",
    "import pandas as pd\n",
    "import os\n",
    "import cv2\n",
    "import shutil as sh\n",
    "import matplotlib.pyplot as plt"
   ]
  },
  {
   "cell_type": "code",
   "execution_count": 3,
   "id": "bb0c3124-4642-4618-ad09-d3a56e994073",
   "metadata": {},
   "outputs": [],
   "source": [
    "initial_dir = './datasets/'\n",
    "pre_processed_dir = './datasets/PROCESSED'"
   ]
  },
  {
   "cell_type": "code",
   "execution_count": 4,
   "id": "c53fd02f-54e4-4d61-a583-ece4dd0a9639",
   "metadata": {},
   "outputs": [],
   "source": [
    "datasets = ['ARIA','RFMiD','STARE']"
   ]
  },
  {
   "cell_type": "code",
   "execution_count": 120,
   "id": "144e56d3-0f4e-42af-91b5-03463070ef6d",
   "metadata": {},
   "outputs": [],
   "source": [
    "def ARIA_preprocess():\n",
    "    \n",
    "    path_diabetes = os.path.join(initial_dir, f'{dataset}/diabetes/markups')\n",
    "    path_control = os.path.join(initial_dir, f'{dataset}/controle/markups')\n",
    "\n",
    "    images_diabetes = list_files(path_diabetes)\n",
    "    images_controle = list_files(path_control)\n",
    "    \n",
    "    random_split_d = np.random.choice([0,1], size=len(images_diabetes), p=[.3, .7])\n",
    "    random_split_c = np.random.choice([0,1], size=len(images_controle), p=[.3, .7])\n",
    "\n",
    "    for i, image in enumerate(images_diabetes):\n",
    "\n",
    "        image_path = os.path.join(path_diabetes, image)\n",
    "\n",
    "        test_path_diabete = os.path.join(pre_processed_dir, 'TESTE/1/')\n",
    "        train_path_diabete = os.path.join(pre_processed_dir, 'TREINO/1/')\n",
    "\n",
    "        if random_split_d[i] == 0:\n",
    "            sh.copy(image_path, test_path_diabete)\n",
    "        elif random_split_d[i] == 1:\n",
    "            sh.copy(image_path, train_path_diabete)\n",
    "\n",
    "    for i, image in enumerate(images_controle):\n",
    "\n",
    "        image_path = os.path.join(path_control, image)\n",
    "\n",
    "        test_path_control = os.path.join(pre_processed_dir, 'TESTE/0/')\n",
    "        train_path_control = os.path.join(pre_processed_dir, 'TREINO/0/')\n",
    "\n",
    "        if random_split_c[i] == 0:\n",
    "            sh.copy(image_path, test_path_control)\n",
    "        elif random_split_c[i] == 1:\n",
    "            sh.copy(image_path, train_path_control)\n",
    "            \n",
    "    "
   ]
  },
  {
   "cell_type": "code",
   "execution_count": 121,
   "id": "dfcd335a-80d9-48d4-b497-1a2440c8f1e7",
   "metadata": {
    "tags": []
   },
   "outputs": [],
   "source": [
    "def RFMiD_preprocess():\n",
    "    \n",
    "    dataset = 'RFMiD'\n",
    "    parts = ['parte_1','parte_2','parte_3']\n",
    "\n",
    "    for part in parts:\n",
    "        path_images = os.path.join(initial_dir, f'{dataset}/{part}/')\n",
    "        path_labels = os.path.join(initial_dir, f'{dataset}/{part}_label.csv')\n",
    "\n",
    "        images_path = list_files(path_images)\n",
    "\n",
    "        labels = pd.read_csv(path_labels)\n",
    "\n",
    "        diabet_filter = labels[labels['DR'] == 1]\n",
    "        control_filter = labels[labels['Disease_Risk'] == 0] \n",
    "\n",
    "        random_split_d = np.random.choice([0,1], size=len(diabet_filter), p=[.3, .7])\n",
    "        random_split_c = np.random.choice([0,1], size=len(control_filter), p=[.3, .7])\n",
    "\n",
    "        test_path_diabete = os.path.join(pre_processed_dir, f'TESTE/1/')\n",
    "        train_path_diabete = os.path.join(pre_processed_dir, f'TREINO/1/')\n",
    "\n",
    "        for i, r in enumerate(random_split_d):\n",
    "\n",
    "            image_id = diabet_filter.iloc[i].ID\n",
    "            image_path = os.path.join(path_images, f'{image_id}.png')\n",
    "\n",
    "\n",
    "            if r == 0:\n",
    "                sh.copy(image_path, f'{test_path_diabete}/{part}_{image_id}.png')\n",
    "            elif r == 1:\n",
    "                sh.copy(image_path, f'{train_path_diabete}/{part}_{image_id}.png')\n",
    "\n",
    "\n",
    "        test_path_control = os.path.join(pre_processed_dir, f'TESTE/0/')\n",
    "        train_path_control = os.path.join(pre_processed_dir, f'TREINO/0/')\n",
    "\n",
    "        for i, r in enumerate(random_split_c):\n",
    "\n",
    "            image_id = control_filter.iloc[i].ID\n",
    "            image_path = os.path.join(path_images, f'{image_id}.png')\n",
    "\n",
    "            if r == 0:\n",
    "                sh.copy(image_path, f'{test_path_control}/{part}_{image_id}.png')\n",
    "            elif r == 1:\n",
    "                sh.copy(image_path, f'{train_path_control}/{part}_{image_id}.png')"
   ]
  },
  {
   "cell_type": "code",
   "execution_count": 122,
   "id": "32c991e1-51a8-487d-a246-b6eb1d173331",
   "metadata": {},
   "outputs": [],
   "source": [
    "def STARE_preprocess():\n",
    "    dataset = 'STARE'\n",
    "\n",
    "    path_images = os.path.join(initial_dir, f'{dataset}/markups/')\n",
    "    labels = pd.read_csv(f\"./datasets/{dataset}/tag_stare.txt\", sep='\\t', header=None)\n",
    "\n",
    "    labels = labels[labels.columns[[0,1]]]\n",
    "\n",
    "    labels['flag_diagnoses'] = np.where(labels[1].str.contains('Diabetic', regex=True), '1', np.where(labels[1].str.contains(\"Normal\", regex=True), '0', None))\n",
    "    labels.columns = ['id', 'diagnoses', 'flag_diagnoses']\n",
    "\n",
    "    diabet_filter = labels[labels['flag_diagnoses'] == '1']\n",
    "    control_filter = labels[labels['flag_diagnoses'] == '0'] \n",
    "\n",
    "    random_split_d = np.random.choice([0,1], size=len(diabet_filter), p=[.3, .7])\n",
    "    random_split_c = np.random.choice([0,1], size=len(control_filter), p=[.3, .7])\n",
    "\n",
    "    test_path_diabete = os.path.join(pre_processed_dir, f'TESTE/1/')\n",
    "    train_path_diabete = os.path.join(pre_processed_dir, f'TREINO/1/')\n",
    "\n",
    "    images_path = list_files(path_images)\n",
    "\n",
    "    for i, r in enumerate(random_split_d):\n",
    "\n",
    "        image_id = diabet_filter.iloc[i].id\n",
    "        image_path = os.path.join(path_images, f'{image_id}.ppm')\n",
    "\n",
    "        if r == 0:\n",
    "            sh.copy(image_path, f'{test_path_diabete}/{dataset}_{image_id}.ppm')\n",
    "        elif r == 1:\n",
    "            sh.copy(image_path, f'{train_path_diabete}/{dataset}_{image_id}.ppm')\n",
    "\n",
    "    test_path_control = os.path.join(pre_processed_dir, f'TESTE/0/')\n",
    "    train_path_control = os.path.join(pre_processed_dir, f'TREINO/0/')\n",
    "\n",
    "    for i, r in enumerate(random_split_c):\n",
    "\n",
    "        image_id = diabet_filter.iloc[i].id\n",
    "        image_path = os.path.join(path_images, f'{image_id}.ppm')\n",
    "\n",
    "        if r == 0:\n",
    "            sh.copy(image_path, f'{test_path_control}/{dataset}_{image_id}.ppm')\n",
    "        elif r == 1:\n",
    "            sh.copy(image_path, f'{train_path_control}/{dataset}_{image_id}.ppm')"
   ]
  },
  {
   "cell_type": "code",
   "execution_count": 5,
   "id": "1bd8eb3e-d439-4ca2-aaba-fc7fe10e13e6",
   "metadata": {},
   "outputs": [],
   "source": [
    "def list_files(path):\n",
    "\n",
    "    files = os.listdir(path)\n",
    "    return np.asarray(files)"
   ]
  },
  {
   "cell_type": "code",
   "execution_count": 123,
   "id": "f3fe6376-d1d4-49a2-a7d7-7953297d4394",
   "metadata": {},
   "outputs": [],
   "source": [
    "for dataset in datasets:\n",
    "    \n",
    "    if dataset == 'ARIA':\n",
    "        ARIA_preprocess()\n",
    "                \n",
    "    if dataset == 'RFMiD':\n",
    "        RFMiD_preprocess()\n",
    "        \n",
    "    if dataset == 'STARE':\n",
    "        STARE_preprocess()\n",
    "        \n",
    "    "
   ]
  },
  {
   "cell_type": "code",
   "execution_count": null,
   "id": "7e5cca47-0749-47b4-9870-f5293a59359c",
   "metadata": {},
   "outputs": [],
   "source": []
  }
 ],
 "metadata": {
  "kernelspec": {
   "display_name": ".lp_eyenet_venv",
   "language": "python",
   "name": "python3"
  },
  "language_info": {
   "codemirror_mode": {
    "name": "ipython",
    "version": 3
   },
   "file_extension": ".py",
   "mimetype": "text/x-python",
   "name": "python",
   "nbconvert_exporter": "python",
   "pygments_lexer": "ipython3",
   "version": "3.9.13 (tags/v3.9.13:6de2ca5, May 17 2022, 16:36:42) [MSC v.1929 64 bit (AMD64)]"
  },
  "vscode": {
   "interpreter": {
    "hash": "d7818a22cc365f8045c7656bbb6e4a0740739cc05f4afd70a528805e6f7c69cf"
   }
  }
 },
 "nbformat": 4,
 "nbformat_minor": 5
}
